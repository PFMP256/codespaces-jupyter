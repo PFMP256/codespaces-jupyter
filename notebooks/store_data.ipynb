{
 "cells": [
  {
   "cell_type": "markdown",
   "metadata": {},
   "source": [
    "# Sample data"
   ]
  },
  {
   "cell_type": "code",
   "execution_count": 1,
   "metadata": {},
   "outputs": [
    {
     "name": "stderr",
     "output_type": "stream",
     "text": [
      "/tmp/ipykernel_2169/259074107.py:24: FutureWarning: 'T' is deprecated and will be removed in a future version, please use 'min' instead.\n",
      "  dates = pd.date_range(start=start_date, periods=rows, freq=freq)\n"
     ]
    },
    {
     "name": "stdout",
     "output_type": "stream",
     "text": [
      "CPU times: user 1.41 s, sys: 213 ms, total: 1.62 s\n",
      "Wall time: 1.68 s\n"
     ]
    }
   ],
   "source": [
    "import pandas as pd\n",
    "import numpy as np\n",
    "\n",
    "def generate_sample_data(rows=5, cols=4, \n",
    "                         start_date='2021-01-01 00:00:00', \n",
    "                         freq='T',  # Frecuencia de 1 minuto\n",
    "                         initial=100, \n",
    "                         noise_std=0.05):\n",
    "    \"\"\"\n",
    "    Genera un DataFrame con datos financieros de prueba.\n",
    "    \n",
    "    Parámetros:\n",
    "      - rows: número de filas (registros de tiempo).\n",
    "      - cols: número de columnas (por ejemplo, activos).\n",
    "      - start_date: fecha de inicio.\n",
    "      - freq: frecuencia de las marcas de tiempo.\n",
    "      - initial: valor inicial (por defecto 100).\n",
    "      - noise_std: desviación estándar del ruido.\n",
    "      \n",
    "    Retorna:\n",
    "      - DataFrame de pandas con índices de fecha y columnas con valores simulados.\n",
    "    \"\"\"\n",
    "    # Genera el índice de fechas\n",
    "    dates = pd.date_range(start=start_date, periods=rows, freq=freq)\n",
    "    # Genera los datos con ruido gaussiano\n",
    "    data = initial + np.random.randn(rows, cols) * noise_std\n",
    "    # Crea el DataFrame asignando nombres a las columnas\n",
    "    df = pd.DataFrame(data, index=dates, columns=[f'No{i}' for i in range(cols)])\n",
    "    return df\n",
    "\n",
    "# En Jupyter Notebook, usamos el cell magic %time para medir el tiempo de ejecución\n",
    "%time data = generate_sample_data(rows=int(5e6), cols=10).round(4)\n"
   ]
  },
  {
   "cell_type": "code",
   "execution_count": 2,
   "metadata": {},
   "outputs": [
    {
     "name": "stdout",
     "output_type": "stream",
     "text": [
      "<class 'pandas.core.frame.DataFrame'>\n",
      "DatetimeIndex: 5000000 entries, 2021-01-01 00:00:00 to 2030-07-05 05:19:00\n",
      "Freq: min\n",
      "Data columns (total 10 columns):\n",
      " #   Column  Dtype  \n",
      "---  ------  -----  \n",
      " 0   No0     float64\n",
      " 1   No1     float64\n",
      " 2   No2     float64\n",
      " 3   No3     float64\n",
      " 4   No4     float64\n",
      " 5   No5     float64\n",
      " 6   No6     float64\n",
      " 7   No7     float64\n",
      " 8   No8     float64\n",
      " 9   No9     float64\n",
      "dtypes: float64(10)\n",
      "memory usage: 419.6 MB\n"
     ]
    }
   ],
   "source": [
    "data.info()"
   ]
  },
  {
   "cell_type": "code",
   "execution_count": 3,
   "metadata": {},
   "outputs": [],
   "source": [
    "h5 = pd.HDFStore('data/data.h5', 'w')"
   ]
  },
  {
   "cell_type": "code",
   "execution_count": 4,
   "metadata": {},
   "outputs": [
    {
     "name": "stdout",
     "output_type": "stream",
     "text": [
      "CPU times: user 10.2 ms, sys: 542 ms, total: 552 ms\n",
      "Wall time: 560 ms\n"
     ]
    }
   ],
   "source": [
    "%time h5['data'] = data"
   ]
  },
  {
   "cell_type": "code",
   "execution_count": 13,
   "metadata": {},
   "outputs": [],
   "source": [
    "h5.close()"
   ]
  },
  {
   "cell_type": "code",
   "execution_count": 6,
   "metadata": {},
   "outputs": [],
   "source": [
    "h5 = pd.HDFStore('data/data.h5', 'r')"
   ]
  },
  {
   "cell_type": "code",
   "execution_count": 7,
   "metadata": {},
   "outputs": [
    {
     "name": "stdout",
     "output_type": "stream",
     "text": [
      "CPU times: user 167 ms, sys: 667 ms, total: 834 ms\n",
      "Wall time: 833 ms\n"
     ]
    }
   ],
   "source": [
    "%time data_copy = h5['data']"
   ]
  },
  {
   "cell_type": "code",
   "execution_count": 15,
   "metadata": {},
   "outputs": [
    {
     "name": "stderr",
     "output_type": "stream",
     "text": [
      "<timed eval>:1: FutureWarning: Starting with pandas version 3.0 all arguments of to_hdf except for the argument 'path_or_buf' will be keyword-only.\n"
     ]
    },
    {
     "name": "stdout",
     "output_type": "stream",
     "text": [
      "CPU times: user 2.14 s, sys: 386 ms, total: 2.52 s\n",
      "Wall time: 2.53 s\n"
     ]
    }
   ],
   "source": [
    "%time data.to_hdf('data/data.h5', 'data', format='table')"
   ]
  },
  {
   "cell_type": "code",
   "execution_count": 17,
   "metadata": {},
   "outputs": [
    {
     "name": "stdout",
     "output_type": "stream",
     "text": [
      "<class 'pandas.core.frame.DataFrame'>\n",
      "DatetimeIndex: 5000000 entries, 2021-01-01 00:00:00 to 2030-07-05 05:19:00\n",
      "Freq: min\n",
      "Data columns (total 10 columns):\n",
      " #   Column  Dtype  \n",
      "---  ------  -----  \n",
      " 0   No0     float64\n",
      " 1   No1     float64\n",
      " 2   No2     float64\n",
      " 3   No3     float64\n",
      " 4   No4     float64\n",
      " 5   No5     float64\n",
      " 6   No6     float64\n",
      " 7   No7     float64\n",
      " 8   No8     float64\n",
      " 9   No9     float64\n",
      "dtypes: float64(10)\n",
      "memory usage: 419.6 MB\n"
     ]
    }
   ],
   "source": [
    "data_copy.info()"
   ]
  },
  {
   "cell_type": "code",
   "execution_count": 10,
   "metadata": {},
   "outputs": [
    {
     "name": "stdout",
     "output_type": "stream",
     "text": [
      "-rw-rw-rw- 1 1000 1000 440007240 Feb  2 03:45 data/data.h5\n"
     ]
    }
   ],
   "source": [
    "ls -n data/data.*"
   ]
  },
  {
   "cell_type": "code",
   "execution_count": 18,
   "metadata": {},
   "outputs": [
    {
     "name": "stdout",
     "output_type": "stream",
     "text": [
      "CPU times: user 99.7 ms, sys: 386 ms, total: 486 ms\n",
      "Wall time: 489 ms\n"
     ]
    }
   ],
   "source": [
    "%time data_copy = pd.read_hdf('data/data.h5', 'data')"
   ]
  },
  {
   "cell_type": "markdown",
   "metadata": {},
   "source": [
    "# Pytables"
   ]
  },
  {
   "cell_type": "code",
   "execution_count": 19,
   "metadata": {},
   "outputs": [],
   "source": [
    "import tables as tb"
   ]
  },
  {
   "cell_type": "code",
   "execution_count": 20,
   "metadata": {},
   "outputs": [],
   "source": [
    "h5 = tb.open_file('data/data.h5', 'r')"
   ]
  },
  {
   "cell_type": "code",
   "execution_count": 21,
   "metadata": {},
   "outputs": [
    {
     "data": {
      "text/plain": [
       "File(filename=data/data.h5, title=np.str_(''), mode='r', root_uep='/', filters=Filters(complevel=0, shuffle=False, bitshuffle=False, fletcher32=False, least_significant_digit=None))\n",
       "/ (RootGroup) np.str_('')\n",
       "/data (Group) np.str_('')\n",
       "/data/table (Table(np.int64(5000000),)) np.str_('')\n",
       "  description := {\n",
       "  \"index\": Int64Col(shape=(), dflt=np.int64(0), pos=0),\n",
       "  \"values_block_0\": Float64Col(shape=(np.int64(10),), dflt=np.float64(0.0), pos=1)}\n",
       "  byteorder := 'little'\n",
       "  chunkshape := (np.int64(2978),)\n",
       "  autoindex := True\n",
       "  colindexes := {\n",
       "    \"index\": Index(6, mediumshuffle, zlib(1)).is_csi=False}"
      ]
     },
     "execution_count": 21,
     "metadata": {},
     "output_type": "execute_result"
    }
   ],
   "source": [
    "h5"
   ]
  },
  {
   "cell_type": "code",
   "execution_count": 22,
   "metadata": {},
   "outputs": [
    {
     "data": {
      "text/plain": [
       "array([(1609459200000000000, [100.0323, 100.072 , 100.173 ,  99.9869,  99.9844,  99.9848,  99.9497, 100.0594,  99.9781, 100.0162]),\n",
       "       (1609459260000000000, [ 99.9792,  99.9165, 100.0028, 100.0905,  99.9693,  99.9937,  99.9851, 100.0402,  99.9695,  99.9898]),\n",
       "       (1609459320000000000, [100.0095,  99.9756,  99.9739,  99.9813,  99.9866,  99.9516, 100.0443, 100.0604,  99.9292, 100.0886])],\n",
       "      dtype=[('index', '<i8'), ('values_block_0', '<f8', (10,))])"
      ]
     },
     "execution_count": 22,
     "metadata": {},
     "output_type": "execute_result"
    }
   ],
   "source": [
    "h5.root.data.table[:3]"
   ]
  },
  {
   "cell_type": "code",
   "execution_count": 23,
   "metadata": {},
   "outputs": [],
   "source": [
    "h5.close()"
   ]
  },
  {
   "cell_type": "code",
   "execution_count": 24,
   "metadata": {},
   "outputs": [],
   "source": [
    "rm data/data.h5"
   ]
  }
 ],
 "metadata": {
  "kernelspec": {
   "display_name": "Python 3",
   "language": "python",
   "name": "python3"
  },
  "language_info": {
   "codemirror_mode": {
    "name": "ipython",
    "version": 3
   },
   "file_extension": ".py",
   "mimetype": "text/x-python",
   "name": "python",
   "nbconvert_exporter": "python",
   "pygments_lexer": "ipython3",
   "version": "3.12.1"
  }
 },
 "nbformat": 4,
 "nbformat_minor": 2
}
